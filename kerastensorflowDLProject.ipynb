{
 "cells": [
  {
   "cell_type": "code",
   "execution_count": 174,
   "id": "c8785db9-eabb-4c4e-8f4e-6f7785267ff8",
   "metadata": {},
   "outputs": [],
   "source": [
    "import matplotlib.pyplot as plt\n",
    "import numpy as np\n",
    "import pandas as pd\n",
    "import os\n",
    "import PIL\n",
    "import tensorflow as tf\n",
    "\n",
    "from tensorflow import keras\n",
    "from tensorflow.keras import layers\n",
    "from tensorflow.keras import optimizers\n",
    "from keras.optimizers import Adam\n",
    "from tensorflow.keras.models import Sequential\n",
    "\n",
    "from transformers import pipeline"
   ]
  },
  {
   "cell_type": "code",
   "execution_count": 140,
   "id": "95b8d403-eb42-4316-be1d-59651981d165",
   "metadata": {},
   "outputs": [
    {
     "data": {
      "text/plain": [
       "'/voc/work/ProjectDLKerasTensorFlow'"
      ]
     },
     "execution_count": 140,
     "metadata": {},
     "output_type": "execute_result"
    }
   ],
   "source": [
    "import os\n",
    "os.getcwd()"
   ]
  },
  {
   "cell_type": "code",
   "execution_count": 141,
   "id": "a29acb8e-8732-425d-8576-f0ea49597742",
   "metadata": {},
   "outputs": [],
   "source": [
    "df = pd.read_csv(\"loan_data.csv\")"
   ]
  },
  {
   "cell_type": "code",
   "execution_count": 142,
   "id": "5c28dfed-c6dc-4adf-b769-eb3513b00ad3",
   "metadata": {},
   "outputs": [
    {
     "data": {
      "text/html": [
       "<div>\n",
       "<style scoped>\n",
       "    .dataframe tbody tr th:only-of-type {\n",
       "        vertical-align: middle;\n",
       "    }\n",
       "\n",
       "    .dataframe tbody tr th {\n",
       "        vertical-align: top;\n",
       "    }\n",
       "\n",
       "    .dataframe thead th {\n",
       "        text-align: right;\n",
       "    }\n",
       "</style>\n",
       "<table border=\"1\" class=\"dataframe\">\n",
       "  <thead>\n",
       "    <tr style=\"text-align: right;\">\n",
       "      <th></th>\n",
       "      <th>SK_ID_CURR</th>\n",
       "      <th>TARGET</th>\n",
       "      <th>NAME_CONTRACT_TYPE</th>\n",
       "      <th>CODE_GENDER</th>\n",
       "      <th>FLAG_OWN_CAR</th>\n",
       "      <th>FLAG_OWN_REALTY</th>\n",
       "      <th>CNT_CHILDREN</th>\n",
       "      <th>AMT_INCOME_TOTAL</th>\n",
       "      <th>AMT_CREDIT</th>\n",
       "      <th>AMT_ANNUITY</th>\n",
       "      <th>...</th>\n",
       "      <th>FLAG_DOCUMENT_18</th>\n",
       "      <th>FLAG_DOCUMENT_19</th>\n",
       "      <th>FLAG_DOCUMENT_20</th>\n",
       "      <th>FLAG_DOCUMENT_21</th>\n",
       "      <th>AMT_REQ_CREDIT_BUREAU_HOUR</th>\n",
       "      <th>AMT_REQ_CREDIT_BUREAU_DAY</th>\n",
       "      <th>AMT_REQ_CREDIT_BUREAU_WEEK</th>\n",
       "      <th>AMT_REQ_CREDIT_BUREAU_MON</th>\n",
       "      <th>AMT_REQ_CREDIT_BUREAU_QRT</th>\n",
       "      <th>AMT_REQ_CREDIT_BUREAU_YEAR</th>\n",
       "    </tr>\n",
       "  </thead>\n",
       "  <tbody>\n",
       "    <tr>\n",
       "      <th>0</th>\n",
       "      <td>100002</td>\n",
       "      <td>1</td>\n",
       "      <td>Cash loans</td>\n",
       "      <td>M</td>\n",
       "      <td>N</td>\n",
       "      <td>Y</td>\n",
       "      <td>0</td>\n",
       "      <td>202500.0</td>\n",
       "      <td>406597.5</td>\n",
       "      <td>24700.5</td>\n",
       "      <td>...</td>\n",
       "      <td>0.0</td>\n",
       "      <td>0.0</td>\n",
       "      <td>0.0</td>\n",
       "      <td>0.0</td>\n",
       "      <td>0.0</td>\n",
       "      <td>0.0</td>\n",
       "      <td>0.0</td>\n",
       "      <td>0.0</td>\n",
       "      <td>0.0</td>\n",
       "      <td>1.0</td>\n",
       "    </tr>\n",
       "    <tr>\n",
       "      <th>1</th>\n",
       "      <td>100003</td>\n",
       "      <td>0</td>\n",
       "      <td>Cash loans</td>\n",
       "      <td>F</td>\n",
       "      <td>N</td>\n",
       "      <td>N</td>\n",
       "      <td>0</td>\n",
       "      <td>270000.0</td>\n",
       "      <td>1293502.5</td>\n",
       "      <td>35698.5</td>\n",
       "      <td>...</td>\n",
       "      <td>0.0</td>\n",
       "      <td>0.0</td>\n",
       "      <td>0.0</td>\n",
       "      <td>0.0</td>\n",
       "      <td>0.0</td>\n",
       "      <td>0.0</td>\n",
       "      <td>0.0</td>\n",
       "      <td>0.0</td>\n",
       "      <td>0.0</td>\n",
       "      <td>0.0</td>\n",
       "    </tr>\n",
       "    <tr>\n",
       "      <th>2</th>\n",
       "      <td>100004</td>\n",
       "      <td>0</td>\n",
       "      <td>Revolving loans</td>\n",
       "      <td>M</td>\n",
       "      <td>Y</td>\n",
       "      <td>Y</td>\n",
       "      <td>0</td>\n",
       "      <td>67500.0</td>\n",
       "      <td>135000.0</td>\n",
       "      <td>6750.0</td>\n",
       "      <td>...</td>\n",
       "      <td>0.0</td>\n",
       "      <td>0.0</td>\n",
       "      <td>0.0</td>\n",
       "      <td>0.0</td>\n",
       "      <td>0.0</td>\n",
       "      <td>0.0</td>\n",
       "      <td>0.0</td>\n",
       "      <td>0.0</td>\n",
       "      <td>0.0</td>\n",
       "      <td>0.0</td>\n",
       "    </tr>\n",
       "    <tr>\n",
       "      <th>3</th>\n",
       "      <td>100006</td>\n",
       "      <td>0</td>\n",
       "      <td>Cash loans</td>\n",
       "      <td>F</td>\n",
       "      <td>N</td>\n",
       "      <td>Y</td>\n",
       "      <td>0</td>\n",
       "      <td>135000.0</td>\n",
       "      <td>312682.5</td>\n",
       "      <td>29686.5</td>\n",
       "      <td>...</td>\n",
       "      <td>0.0</td>\n",
       "      <td>0.0</td>\n",
       "      <td>0.0</td>\n",
       "      <td>0.0</td>\n",
       "      <td>NaN</td>\n",
       "      <td>NaN</td>\n",
       "      <td>NaN</td>\n",
       "      <td>NaN</td>\n",
       "      <td>NaN</td>\n",
       "      <td>NaN</td>\n",
       "    </tr>\n",
       "    <tr>\n",
       "      <th>4</th>\n",
       "      <td>100007</td>\n",
       "      <td>0</td>\n",
       "      <td>Cash loans</td>\n",
       "      <td>M</td>\n",
       "      <td>N</td>\n",
       "      <td>Y</td>\n",
       "      <td>0</td>\n",
       "      <td>121500.0</td>\n",
       "      <td>513000.0</td>\n",
       "      <td>21865.5</td>\n",
       "      <td>...</td>\n",
       "      <td>0.0</td>\n",
       "      <td>0.0</td>\n",
       "      <td>0.0</td>\n",
       "      <td>0.0</td>\n",
       "      <td>0.0</td>\n",
       "      <td>0.0</td>\n",
       "      <td>0.0</td>\n",
       "      <td>0.0</td>\n",
       "      <td>0.0</td>\n",
       "      <td>0.0</td>\n",
       "    </tr>\n",
       "  </tbody>\n",
       "</table>\n",
       "<p>5 rows × 122 columns</p>\n",
       "</div>"
      ],
      "text/plain": [
       "   SK_ID_CURR  TARGET NAME_CONTRACT_TYPE CODE_GENDER FLAG_OWN_CAR  \\\n",
       "0      100002       1         Cash loans           M            N   \n",
       "1      100003       0         Cash loans           F            N   \n",
       "2      100004       0    Revolving loans           M            Y   \n",
       "3      100006       0         Cash loans           F            N   \n",
       "4      100007       0         Cash loans           M            N   \n",
       "\n",
       "  FLAG_OWN_REALTY  CNT_CHILDREN  AMT_INCOME_TOTAL  AMT_CREDIT  AMT_ANNUITY  \\\n",
       "0               Y             0          202500.0    406597.5      24700.5   \n",
       "1               N             0          270000.0   1293502.5      35698.5   \n",
       "2               Y             0           67500.0    135000.0       6750.0   \n",
       "3               Y             0          135000.0    312682.5      29686.5   \n",
       "4               Y             0          121500.0    513000.0      21865.5   \n",
       "\n",
       "   ...  FLAG_DOCUMENT_18 FLAG_DOCUMENT_19 FLAG_DOCUMENT_20 FLAG_DOCUMENT_21  \\\n",
       "0  ...               0.0              0.0              0.0              0.0   \n",
       "1  ...               0.0              0.0              0.0              0.0   \n",
       "2  ...               0.0              0.0              0.0              0.0   \n",
       "3  ...               0.0              0.0              0.0              0.0   \n",
       "4  ...               0.0              0.0              0.0              0.0   \n",
       "\n",
       "  AMT_REQ_CREDIT_BUREAU_HOUR AMT_REQ_CREDIT_BUREAU_DAY  \\\n",
       "0                        0.0                       0.0   \n",
       "1                        0.0                       0.0   \n",
       "2                        0.0                       0.0   \n",
       "3                        NaN                       NaN   \n",
       "4                        0.0                       0.0   \n",
       "\n",
       "   AMT_REQ_CREDIT_BUREAU_WEEK  AMT_REQ_CREDIT_BUREAU_MON  \\\n",
       "0                         0.0                        0.0   \n",
       "1                         0.0                        0.0   \n",
       "2                         0.0                        0.0   \n",
       "3                         NaN                        NaN   \n",
       "4                         0.0                        0.0   \n",
       "\n",
       "   AMT_REQ_CREDIT_BUREAU_QRT  AMT_REQ_CREDIT_BUREAU_YEAR  \n",
       "0                        0.0                         1.0  \n",
       "1                        0.0                         0.0  \n",
       "2                        0.0                         0.0  \n",
       "3                        NaN                         NaN  \n",
       "4                        0.0                         0.0  \n",
       "\n",
       "[5 rows x 122 columns]"
      ]
     },
     "execution_count": 142,
     "metadata": {},
     "output_type": "execute_result"
    }
   ],
   "source": [
    "df.head()"
   ]
  },
  {
   "cell_type": "code",
   "execution_count": 143,
   "id": "36a2b787-4e29-418a-b639-605d315181b1",
   "metadata": {},
   "outputs": [
    {
     "data": {
      "text/html": [
       "<div>\n",
       "<style scoped>\n",
       "    .dataframe tbody tr th:only-of-type {\n",
       "        vertical-align: middle;\n",
       "    }\n",
       "\n",
       "    .dataframe tbody tr th {\n",
       "        vertical-align: top;\n",
       "    }\n",
       "\n",
       "    .dataframe thead th {\n",
       "        text-align: right;\n",
       "    }\n",
       "</style>\n",
       "<table border=\"1\" class=\"dataframe\">\n",
       "  <thead>\n",
       "    <tr style=\"text-align: right;\">\n",
       "      <th></th>\n",
       "      <th>SK_ID_CURR</th>\n",
       "      <th>TARGET</th>\n",
       "      <th>CNT_CHILDREN</th>\n",
       "      <th>AMT_INCOME_TOTAL</th>\n",
       "      <th>AMT_CREDIT</th>\n",
       "      <th>AMT_ANNUITY</th>\n",
       "      <th>AMT_GOODS_PRICE</th>\n",
       "      <th>REGION_POPULATION_RELATIVE</th>\n",
       "      <th>DAYS_BIRTH</th>\n",
       "      <th>DAYS_EMPLOYED</th>\n",
       "      <th>...</th>\n",
       "      <th>FLAG_DOCUMENT_18</th>\n",
       "      <th>FLAG_DOCUMENT_19</th>\n",
       "      <th>FLAG_DOCUMENT_20</th>\n",
       "      <th>FLAG_DOCUMENT_21</th>\n",
       "      <th>AMT_REQ_CREDIT_BUREAU_HOUR</th>\n",
       "      <th>AMT_REQ_CREDIT_BUREAU_DAY</th>\n",
       "      <th>AMT_REQ_CREDIT_BUREAU_WEEK</th>\n",
       "      <th>AMT_REQ_CREDIT_BUREAU_MON</th>\n",
       "      <th>AMT_REQ_CREDIT_BUREAU_QRT</th>\n",
       "      <th>AMT_REQ_CREDIT_BUREAU_YEAR</th>\n",
       "    </tr>\n",
       "  </thead>\n",
       "  <tbody>\n",
       "    <tr>\n",
       "      <th>count</th>\n",
       "      <td>231037.000000</td>\n",
       "      <td>231037.000000</td>\n",
       "      <td>231037.000000</td>\n",
       "      <td>2.310370e+05</td>\n",
       "      <td>2.310370e+05</td>\n",
       "      <td>231027.000000</td>\n",
       "      <td>2.308430e+05</td>\n",
       "      <td>231037.000000</td>\n",
       "      <td>231037.000000</td>\n",
       "      <td>231037.000000</td>\n",
       "      <td>...</td>\n",
       "      <td>231036.000000</td>\n",
       "      <td>231036.000000</td>\n",
       "      <td>231036.000000</td>\n",
       "      <td>231036.000000</td>\n",
       "      <td>199808.000000</td>\n",
       "      <td>199808.000000</td>\n",
       "      <td>199808.000000</td>\n",
       "      <td>199808.000000</td>\n",
       "      <td>199808.000000</td>\n",
       "      <td>199808.000000</td>\n",
       "    </tr>\n",
       "    <tr>\n",
       "      <th>mean</th>\n",
       "      <td>233929.714717</td>\n",
       "      <td>0.081091</td>\n",
       "      <td>0.416998</td>\n",
       "      <td>1.687846e+05</td>\n",
       "      <td>5.988709e+05</td>\n",
       "      <td>27110.499331</td>\n",
       "      <td>5.382212e+05</td>\n",
       "      <td>0.020855</td>\n",
       "      <td>-16035.529218</td>\n",
       "      <td>63841.328203</td>\n",
       "      <td>...</td>\n",
       "      <td>0.008064</td>\n",
       "      <td>0.000576</td>\n",
       "      <td>0.000480</td>\n",
       "      <td>0.000320</td>\n",
       "      <td>0.006531</td>\n",
       "      <td>0.007037</td>\n",
       "      <td>0.034373</td>\n",
       "      <td>0.266656</td>\n",
       "      <td>0.264459</td>\n",
       "      <td>1.895810</td>\n",
       "    </tr>\n",
       "    <tr>\n",
       "      <th>std</th>\n",
       "      <td>77274.359444</td>\n",
       "      <td>0.272975</td>\n",
       "      <td>0.722672</td>\n",
       "      <td>2.661102e+05</td>\n",
       "      <td>4.021935e+05</td>\n",
       "      <td>14503.813999</td>\n",
       "      <td>3.692034e+05</td>\n",
       "      <td>0.013828</td>\n",
       "      <td>4370.399482</td>\n",
       "      <td>141296.205102</td>\n",
       "      <td>...</td>\n",
       "      <td>0.089435</td>\n",
       "      <td>0.023986</td>\n",
       "      <td>0.021914</td>\n",
       "      <td>0.017894</td>\n",
       "      <td>0.085378</td>\n",
       "      <td>0.112529</td>\n",
       "      <td>0.206108</td>\n",
       "      <td>0.912643</td>\n",
       "      <td>0.610781</td>\n",
       "      <td>1.866745</td>\n",
       "    </tr>\n",
       "    <tr>\n",
       "      <th>min</th>\n",
       "      <td>100002.000000</td>\n",
       "      <td>0.000000</td>\n",
       "      <td>0.000000</td>\n",
       "      <td>2.565000e+04</td>\n",
       "      <td>4.500000e+04</td>\n",
       "      <td>1980.000000</td>\n",
       "      <td>4.500000e+04</td>\n",
       "      <td>0.000533</td>\n",
       "      <td>-25201.000000</td>\n",
       "      <td>-17546.000000</td>\n",
       "      <td>...</td>\n",
       "      <td>0.000000</td>\n",
       "      <td>0.000000</td>\n",
       "      <td>0.000000</td>\n",
       "      <td>0.000000</td>\n",
       "      <td>0.000000</td>\n",
       "      <td>0.000000</td>\n",
       "      <td>0.000000</td>\n",
       "      <td>0.000000</td>\n",
       "      <td>0.000000</td>\n",
       "      <td>0.000000</td>\n",
       "    </tr>\n",
       "    <tr>\n",
       "      <th>25%</th>\n",
       "      <td>166939.000000</td>\n",
       "      <td>0.000000</td>\n",
       "      <td>0.000000</td>\n",
       "      <td>1.125000e+05</td>\n",
       "      <td>2.700000e+05</td>\n",
       "      <td>16533.000000</td>\n",
       "      <td>2.385000e+05</td>\n",
       "      <td>0.010006</td>\n",
       "      <td>-19686.000000</td>\n",
       "      <td>-2761.000000</td>\n",
       "      <td>...</td>\n",
       "      <td>0.000000</td>\n",
       "      <td>0.000000</td>\n",
       "      <td>0.000000</td>\n",
       "      <td>0.000000</td>\n",
       "      <td>0.000000</td>\n",
       "      <td>0.000000</td>\n",
       "      <td>0.000000</td>\n",
       "      <td>0.000000</td>\n",
       "      <td>0.000000</td>\n",
       "      <td>0.000000</td>\n",
       "    </tr>\n",
       "    <tr>\n",
       "      <th>50%</th>\n",
       "      <td>233962.000000</td>\n",
       "      <td>0.000000</td>\n",
       "      <td>0.000000</td>\n",
       "      <td>1.440000e+05</td>\n",
       "      <td>5.130000e+05</td>\n",
       "      <td>24907.500000</td>\n",
       "      <td>4.500000e+05</td>\n",
       "      <td>0.018850</td>\n",
       "      <td>-15746.000000</td>\n",
       "      <td>-1213.000000</td>\n",
       "      <td>...</td>\n",
       "      <td>0.000000</td>\n",
       "      <td>0.000000</td>\n",
       "      <td>0.000000</td>\n",
       "      <td>0.000000</td>\n",
       "      <td>0.000000</td>\n",
       "      <td>0.000000</td>\n",
       "      <td>0.000000</td>\n",
       "      <td>0.000000</td>\n",
       "      <td>0.000000</td>\n",
       "      <td>1.000000</td>\n",
       "    </tr>\n",
       "    <tr>\n",
       "      <th>75%</th>\n",
       "      <td>300800.000000</td>\n",
       "      <td>0.000000</td>\n",
       "      <td>1.000000</td>\n",
       "      <td>2.025000e+05</td>\n",
       "      <td>8.086500e+05</td>\n",
       "      <td>34596.000000</td>\n",
       "      <td>6.795000e+05</td>\n",
       "      <td>0.028663</td>\n",
       "      <td>-12405.000000</td>\n",
       "      <td>-288.000000</td>\n",
       "      <td>...</td>\n",
       "      <td>0.000000</td>\n",
       "      <td>0.000000</td>\n",
       "      <td>0.000000</td>\n",
       "      <td>0.000000</td>\n",
       "      <td>0.000000</td>\n",
       "      <td>0.000000</td>\n",
       "      <td>0.000000</td>\n",
       "      <td>0.000000</td>\n",
       "      <td>0.000000</td>\n",
       "      <td>3.000000</td>\n",
       "    </tr>\n",
       "    <tr>\n",
       "      <th>max</th>\n",
       "      <td>367603.000000</td>\n",
       "      <td>1.000000</td>\n",
       "      <td>19.000000</td>\n",
       "      <td>1.170000e+08</td>\n",
       "      <td>4.050000e+06</td>\n",
       "      <td>258025.500000</td>\n",
       "      <td>4.050000e+06</td>\n",
       "      <td>0.072508</td>\n",
       "      <td>-7673.000000</td>\n",
       "      <td>365243.000000</td>\n",
       "      <td>...</td>\n",
       "      <td>1.000000</td>\n",
       "      <td>1.000000</td>\n",
       "      <td>1.000000</td>\n",
       "      <td>1.000000</td>\n",
       "      <td>4.000000</td>\n",
       "      <td>9.000000</td>\n",
       "      <td>8.000000</td>\n",
       "      <td>24.000000</td>\n",
       "      <td>8.000000</td>\n",
       "      <td>25.000000</td>\n",
       "    </tr>\n",
       "  </tbody>\n",
       "</table>\n",
       "<p>8 rows × 106 columns</p>\n",
       "</div>"
      ],
      "text/plain": [
       "          SK_ID_CURR         TARGET   CNT_CHILDREN  AMT_INCOME_TOTAL  \\\n",
       "count  231037.000000  231037.000000  231037.000000      2.310370e+05   \n",
       "mean   233929.714717       0.081091       0.416998      1.687846e+05   \n",
       "std     77274.359444       0.272975       0.722672      2.661102e+05   \n",
       "min    100002.000000       0.000000       0.000000      2.565000e+04   \n",
       "25%    166939.000000       0.000000       0.000000      1.125000e+05   \n",
       "50%    233962.000000       0.000000       0.000000      1.440000e+05   \n",
       "75%    300800.000000       0.000000       1.000000      2.025000e+05   \n",
       "max    367603.000000       1.000000      19.000000      1.170000e+08   \n",
       "\n",
       "         AMT_CREDIT    AMT_ANNUITY  AMT_GOODS_PRICE  \\\n",
       "count  2.310370e+05  231027.000000     2.308430e+05   \n",
       "mean   5.988709e+05   27110.499331     5.382212e+05   \n",
       "std    4.021935e+05   14503.813999     3.692034e+05   \n",
       "min    4.500000e+04    1980.000000     4.500000e+04   \n",
       "25%    2.700000e+05   16533.000000     2.385000e+05   \n",
       "50%    5.130000e+05   24907.500000     4.500000e+05   \n",
       "75%    8.086500e+05   34596.000000     6.795000e+05   \n",
       "max    4.050000e+06  258025.500000     4.050000e+06   \n",
       "\n",
       "       REGION_POPULATION_RELATIVE     DAYS_BIRTH  DAYS_EMPLOYED  ...  \\\n",
       "count               231037.000000  231037.000000  231037.000000  ...   \n",
       "mean                     0.020855  -16035.529218   63841.328203  ...   \n",
       "std                      0.013828    4370.399482  141296.205102  ...   \n",
       "min                      0.000533  -25201.000000  -17546.000000  ...   \n",
       "25%                      0.010006  -19686.000000   -2761.000000  ...   \n",
       "50%                      0.018850  -15746.000000   -1213.000000  ...   \n",
       "75%                      0.028663  -12405.000000    -288.000000  ...   \n",
       "max                      0.072508   -7673.000000  365243.000000  ...   \n",
       "\n",
       "       FLAG_DOCUMENT_18  FLAG_DOCUMENT_19  FLAG_DOCUMENT_20  FLAG_DOCUMENT_21  \\\n",
       "count     231036.000000     231036.000000     231036.000000     231036.000000   \n",
       "mean           0.008064          0.000576          0.000480          0.000320   \n",
       "std            0.089435          0.023986          0.021914          0.017894   \n",
       "min            0.000000          0.000000          0.000000          0.000000   \n",
       "25%            0.000000          0.000000          0.000000          0.000000   \n",
       "50%            0.000000          0.000000          0.000000          0.000000   \n",
       "75%            0.000000          0.000000          0.000000          0.000000   \n",
       "max            1.000000          1.000000          1.000000          1.000000   \n",
       "\n",
       "       AMT_REQ_CREDIT_BUREAU_HOUR  AMT_REQ_CREDIT_BUREAU_DAY  \\\n",
       "count               199808.000000              199808.000000   \n",
       "mean                     0.006531                   0.007037   \n",
       "std                      0.085378                   0.112529   \n",
       "min                      0.000000                   0.000000   \n",
       "25%                      0.000000                   0.000000   \n",
       "50%                      0.000000                   0.000000   \n",
       "75%                      0.000000                   0.000000   \n",
       "max                      4.000000                   9.000000   \n",
       "\n",
       "       AMT_REQ_CREDIT_BUREAU_WEEK  AMT_REQ_CREDIT_BUREAU_MON  \\\n",
       "count               199808.000000              199808.000000   \n",
       "mean                     0.034373                   0.266656   \n",
       "std                      0.206108                   0.912643   \n",
       "min                      0.000000                   0.000000   \n",
       "25%                      0.000000                   0.000000   \n",
       "50%                      0.000000                   0.000000   \n",
       "75%                      0.000000                   0.000000   \n",
       "max                      8.000000                  24.000000   \n",
       "\n",
       "       AMT_REQ_CREDIT_BUREAU_QRT  AMT_REQ_CREDIT_BUREAU_YEAR  \n",
       "count              199808.000000               199808.000000  \n",
       "mean                    0.264459                    1.895810  \n",
       "std                     0.610781                    1.866745  \n",
       "min                     0.000000                    0.000000  \n",
       "25%                     0.000000                    0.000000  \n",
       "50%                     0.000000                    1.000000  \n",
       "75%                     0.000000                    3.000000  \n",
       "max                     8.000000                   25.000000  \n",
       "\n",
       "[8 rows x 106 columns]"
      ]
     },
     "execution_count": 143,
     "metadata": {},
     "output_type": "execute_result"
    }
   ],
   "source": [
    "df.describe()"
   ]
  },
  {
   "cell_type": "code",
   "execution_count": 144,
   "id": "78d56404-6f6d-4449-87e2-d2a0d162eda7",
   "metadata": {},
   "outputs": [
    {
     "data": {
      "text/plain": [
       "<bound method DataFrame.info of         SK_ID_CURR  TARGET NAME_CONTRACT_TYPE CODE_GENDER FLAG_OWN_CAR  \\\n",
       "0           100002       1         Cash loans           M            N   \n",
       "1           100003       0         Cash loans           F            N   \n",
       "2           100004       0    Revolving loans           M            Y   \n",
       "3           100006       0         Cash loans           F            N   \n",
       "4           100007       0         Cash loans           M            N   \n",
       "...            ...     ...                ...         ...          ...   \n",
       "231032      367598       0    Revolving loans           M            N   \n",
       "231033      367599       0         Cash loans           F            N   \n",
       "231034      367600       0         Cash loans           F            N   \n",
       "231035      367602       0         Cash loans           F            N   \n",
       "231036      367603       0         Cash loans           M            N   \n",
       "\n",
       "       FLAG_OWN_REALTY  CNT_CHILDREN  AMT_INCOME_TOTAL  AMT_CREDIT  \\\n",
       "0                    Y             0          202500.0    406597.5   \n",
       "1                    N             0          270000.0   1293502.5   \n",
       "2                    Y             0           67500.0    135000.0   \n",
       "3                    Y             0          135000.0    312682.5   \n",
       "4                    Y             0          121500.0    513000.0   \n",
       "...                ...           ...               ...         ...   \n",
       "231032               N             0          247500.0    630000.0   \n",
       "231033               Y             0           76500.0    540000.0   \n",
       "231034               Y             0          180000.0   1225543.5   \n",
       "231035               Y             0          103500.0    269550.0   \n",
       "231036               Y             0          121500.0    328500.0   \n",
       "\n",
       "        AMT_ANNUITY  ...  FLAG_DOCUMENT_18 FLAG_DOCUMENT_19 FLAG_DOCUMENT_20  \\\n",
       "0           24700.5  ...               0.0              0.0              0.0   \n",
       "1           35698.5  ...               0.0              0.0              0.0   \n",
       "2            6750.0  ...               0.0              0.0              0.0   \n",
       "3           29686.5  ...               0.0              0.0              0.0   \n",
       "4           21865.5  ...               0.0              0.0              0.0   \n",
       "...             ...  ...               ...              ...              ...   \n",
       "231032      31500.0  ...               0.0              0.0              0.0   \n",
       "231033      30150.0  ...               0.0              0.0              0.0   \n",
       "231034      40630.5  ...               0.0              0.0              0.0   \n",
       "231035      11547.0  ...               0.0              0.0              0.0   \n",
       "231036      26082.0  ...               NaN              NaN              NaN   \n",
       "\n",
       "       FLAG_DOCUMENT_21 AMT_REQ_CREDIT_BUREAU_HOUR AMT_REQ_CREDIT_BUREAU_DAY  \\\n",
       "0                   0.0                        0.0                       0.0   \n",
       "1                   0.0                        0.0                       0.0   \n",
       "2                   0.0                        0.0                       0.0   \n",
       "3                   0.0                        NaN                       NaN   \n",
       "4                   0.0                        0.0                       0.0   \n",
       "...                 ...                        ...                       ...   \n",
       "231032              0.0                        0.0                       0.0   \n",
       "231033              0.0                        0.0                       0.0   \n",
       "231034              0.0                        0.0                       0.0   \n",
       "231035              0.0                        NaN                       NaN   \n",
       "231036              NaN                        NaN                       NaN   \n",
       "\n",
       "        AMT_REQ_CREDIT_BUREAU_WEEK  AMT_REQ_CREDIT_BUREAU_MON  \\\n",
       "0                              0.0                        0.0   \n",
       "1                              0.0                        0.0   \n",
       "2                              0.0                        0.0   \n",
       "3                              NaN                        NaN   \n",
       "4                              0.0                        0.0   \n",
       "...                            ...                        ...   \n",
       "231032                         0.0                        0.0   \n",
       "231033                         0.0                        0.0   \n",
       "231034                         0.0                        0.0   \n",
       "231035                         NaN                        NaN   \n",
       "231036                         NaN                        NaN   \n",
       "\n",
       "        AMT_REQ_CREDIT_BUREAU_QRT  AMT_REQ_CREDIT_BUREAU_YEAR  \n",
       "0                             0.0                         1.0  \n",
       "1                             0.0                         0.0  \n",
       "2                             0.0                         0.0  \n",
       "3                             NaN                         NaN  \n",
       "4                             0.0                         0.0  \n",
       "...                           ...                         ...  \n",
       "231032                        0.0                         0.0  \n",
       "231033                        1.0                         1.0  \n",
       "231034                        2.0                         1.0  \n",
       "231035                        NaN                         NaN  \n",
       "231036                        NaN                         NaN  \n",
       "\n",
       "[231037 rows x 122 columns]>"
      ]
     },
     "execution_count": 144,
     "metadata": {},
     "output_type": "execute_result"
    }
   ],
   "source": [
    "df.info"
   ]
  },
  {
   "cell_type": "code",
   "execution_count": 145,
   "id": "1949dbd8-b889-4af8-988d-f9165751e71d",
   "metadata": {},
   "outputs": [
    {
     "data": {
      "text/plain": [
       "SK_ID_CURR                    231037\n",
       "TARGET                        231037\n",
       "NAME_CONTRACT_TYPE            231037\n",
       "CODE_GENDER                   231037\n",
       "FLAG_OWN_CAR                  231037\n",
       "                               ...  \n",
       "AMT_REQ_CREDIT_BUREAU_DAY     231037\n",
       "AMT_REQ_CREDIT_BUREAU_WEEK    231037\n",
       "AMT_REQ_CREDIT_BUREAU_MON     231037\n",
       "AMT_REQ_CREDIT_BUREAU_QRT     231037\n",
       "AMT_REQ_CREDIT_BUREAU_YEAR    231037\n",
       "Length: 122, dtype: int64"
      ]
     },
     "execution_count": 145,
     "metadata": {},
     "output_type": "execute_result"
    }
   ],
   "source": [
    "df.isna().count()"
   ]
  },
  {
   "cell_type": "code",
   "execution_count": null,
   "id": "0a5c226a-f540-428e-a19e-d2108d206f1f",
   "metadata": {},
   "outputs": [],
   "source": []
  },
  {
   "cell_type": "code",
   "execution_count": 109,
   "id": "983332ab-69ad-4f46-b45a-70f5eba0f79f",
   "metadata": {},
   "outputs": [
    {
     "data": {
      "text/plain": [
       "SK_ID_CURR                    231037\n",
       "TARGET                        231037\n",
       "NAME_CONTRACT_TYPE            231037\n",
       "CODE_GENDER                   231037\n",
       "FLAG_OWN_CAR                  231037\n",
       "                               ...  \n",
       "AMT_REQ_CREDIT_BUREAU_DAY     199808\n",
       "AMT_REQ_CREDIT_BUREAU_WEEK    199808\n",
       "AMT_REQ_CREDIT_BUREAU_MON     199808\n",
       "AMT_REQ_CREDIT_BUREAU_QRT     199808\n",
       "AMT_REQ_CREDIT_BUREAU_YEAR    199808\n",
       "Length: 122, dtype: int64"
      ]
     },
     "execution_count": 109,
     "metadata": {},
     "output_type": "execute_result"
    }
   ],
   "source": [
    "df.count()"
   ]
  },
  {
   "cell_type": "code",
   "execution_count": 146,
   "id": "ff806705-3378-41dc-ae68-0070fdccc9bd",
   "metadata": {},
   "outputs": [
    {
     "data": {
      "text/plain": [
       "SK_ID_CURR                        0\n",
       "TARGET                            0\n",
       "NAME_CONTRACT_TYPE                0\n",
       "CODE_GENDER                       0\n",
       "FLAG_OWN_CAR                      0\n",
       "                              ...  \n",
       "AMT_REQ_CREDIT_BUREAU_DAY     31229\n",
       "AMT_REQ_CREDIT_BUREAU_WEEK    31229\n",
       "AMT_REQ_CREDIT_BUREAU_MON     31229\n",
       "AMT_REQ_CREDIT_BUREAU_QRT     31229\n",
       "AMT_REQ_CREDIT_BUREAU_YEAR    31229\n",
       "Length: 122, dtype: int64"
      ]
     },
     "execution_count": 146,
     "metadata": {},
     "output_type": "execute_result"
    }
   ],
   "source": [
    "df.isna().sum()"
   ]
  },
  {
   "cell_type": "code",
   "execution_count": 147,
   "id": "95d70428-3386-447c-8f6f-c7ba6914428c",
   "metadata": {},
   "outputs": [
    {
     "data": {
      "text/plain": [
       "0         False\n",
       "1         False\n",
       "2         False\n",
       "3         False\n",
       "4         False\n",
       "          ...  \n",
       "231032    False\n",
       "231033    False\n",
       "231034    False\n",
       "231035    False\n",
       "231036    False\n",
       "Name: AMT_REQ_CREDIT_BUREAU_DAY, Length: 231037, dtype: bool"
      ]
     },
     "execution_count": 147,
     "metadata": {},
     "output_type": "execute_result"
    }
   ],
   "source": [
    "df['AMT_REQ_CREDIT_BUREAU_DAY'] > 0.0"
   ]
  },
  {
   "cell_type": "code",
   "execution_count": 148,
   "id": "ae496dfc-6cc8-41a4-be66-3c7b64a42abb",
   "metadata": {},
   "outputs": [
    {
     "data": {
      "text/plain": [
       "0          True\n",
       "1          True\n",
       "2          True\n",
       "3         False\n",
       "4          True\n",
       "          ...  \n",
       "231032     True\n",
       "231033     True\n",
       "231034     True\n",
       "231035    False\n",
       "231036    False\n",
       "Name: AMT_REQ_CREDIT_BUREAU_WEEK, Length: 231037, dtype: bool"
      ]
     },
     "execution_count": 148,
     "metadata": {},
     "output_type": "execute_result"
    }
   ],
   "source": [
    "df['AMT_REQ_CREDIT_BUREAU_WEEK'] == 0.0"
   ]
  },
  {
   "cell_type": "code",
   "execution_count": null,
   "id": "3812eb69-c3aa-46cd-afce-748155dff7b6",
   "metadata": {},
   "outputs": [],
   "source": []
  },
  {
   "cell_type": "code",
   "execution_count": 149,
   "id": "7e85623a-6d38-48b1-ba60-ba7032233da3",
   "metadata": {},
   "outputs": [],
   "source": [
    "df['AMT_REQ_CREDIT_BUREAU_HOUR']=df['AMT_REQ_CREDIT_BUREAU_HOUR'].fillna(df['AMT_REQ_CREDIT_BUREAU_HOUR'].median())"
   ]
  },
  {
   "cell_type": "code",
   "execution_count": 151,
   "id": "c37cf836-12f9-43bc-8024-38a457eb820e",
   "metadata": {},
   "outputs": [],
   "source": [
    "df['AMT_REQ_CREDIT_BUREAU_DAY']=df['AMT_REQ_CREDIT_BUREAU_DAY'].fillna(df['AMT_REQ_CREDIT_BUREAU_DAY'].median())"
   ]
  },
  {
   "cell_type": "code",
   "execution_count": 152,
   "id": "acc5b29e-2ae2-4978-b496-786c38b768be",
   "metadata": {},
   "outputs": [],
   "source": [
    "df['AMT_REQ_CREDIT_BUREAU_WEEK']=df['AMT_REQ_CREDIT_BUREAU_WEEK'].fillna(df['AMT_REQ_CREDIT_BUREAU_WEEK'].median())"
   ]
  },
  {
   "cell_type": "code",
   "execution_count": 153,
   "id": "effa9b52-930b-48e6-8cdf-2c8b4685fceb",
   "metadata": {},
   "outputs": [],
   "source": [
    "df['AMT_REQ_CREDIT_BUREAU_MON']=df['AMT_REQ_CREDIT_BUREAU_MON'].fillna(df['AMT_REQ_CREDIT_BUREAU_MON'].median())"
   ]
  },
  {
   "cell_type": "code",
   "execution_count": 155,
   "id": "a1e65600-4b01-497a-a08d-9a52d85b636e",
   "metadata": {},
   "outputs": [],
   "source": [
    "df['AMT_REQ_CREDIT_BUREAU_QRT']=df['AMT_REQ_CREDIT_BUREAU_QRT'].fillna(df['AMT_REQ_CREDIT_BUREAU_QRT'].median())"
   ]
  },
  {
   "cell_type": "code",
   "execution_count": 156,
   "id": "c61b4627-7a82-4214-933a-3e53f4ed1791",
   "metadata": {},
   "outputs": [],
   "source": [
    "df['AMT_REQ_CREDIT_BUREAU_YEAR']=df['AMT_REQ_CREDIT_BUREAU_YEAR'].fillna(df['AMT_REQ_CREDIT_BUREAU_YEAR'].median())"
   ]
  },
  {
   "cell_type": "code",
   "execution_count": 157,
   "id": "ad7dc259-b3b8-4877-b864-c23638f0a93b",
   "metadata": {},
   "outputs": [
    {
     "data": {
      "text/plain": [
       "0         1.0\n",
       "1         0.0\n",
       "2         0.0\n",
       "3         1.0\n",
       "4         0.0\n",
       "         ... \n",
       "231032    0.0\n",
       "231033    1.0\n",
       "231034    1.0\n",
       "231035    1.0\n",
       "231036    1.0\n",
       "Name: AMT_REQ_CREDIT_BUREAU_YEAR, Length: 231037, dtype: float64"
      ]
     },
     "execution_count": 157,
     "metadata": {},
     "output_type": "execute_result"
    }
   ],
   "source": [
    "df['AMT_REQ_CREDIT_BUREAU_YEAR']"
   ]
  },
  {
   "cell_type": "code",
   "execution_count": 158,
   "id": "c6a8e62f-c76c-464e-b8f9-1e23b35c93e7",
   "metadata": {},
   "outputs": [
    {
     "data": {
      "text/plain": [
       "0         0.0\n",
       "1         0.0\n",
       "2         0.0\n",
       "3         0.0\n",
       "4         0.0\n",
       "         ... \n",
       "231032    0.0\n",
       "231033    1.0\n",
       "231034    2.0\n",
       "231035    0.0\n",
       "231036    0.0\n",
       "Name: AMT_REQ_CREDIT_BUREAU_QRT, Length: 231037, dtype: float64"
      ]
     },
     "execution_count": 158,
     "metadata": {},
     "output_type": "execute_result"
    }
   ],
   "source": [
    "df['AMT_REQ_CREDIT_BUREAU_QRT']"
   ]
  },
  {
   "cell_type": "code",
   "execution_count": 159,
   "id": "d5b269bf-b747-413a-a283-3969a39ec1c7",
   "metadata": {},
   "outputs": [
    {
     "data": {
      "text/plain": [
       "array(['M', 'F', 'XNA'], dtype=object)"
      ]
     },
     "execution_count": 159,
     "metadata": {},
     "output_type": "execute_result"
    }
   ],
   "source": [
    "df['CODE_GENDER'].unique()"
   ]
  },
  {
   "cell_type": "code",
   "execution_count": 160,
   "id": "e70554dd-0613-4be3-a3af-386ce98dffaa",
   "metadata": {},
   "outputs": [
    {
     "data": {
      "text/plain": [
       "array(['N', 'Y'], dtype=object)"
      ]
     },
     "execution_count": 160,
     "metadata": {},
     "output_type": "execute_result"
    }
   ],
   "source": [
    "df['FLAG_OWN_CAR'].unique()"
   ]
  },
  {
   "cell_type": "code",
   "execution_count": 161,
   "id": "79a7d37f-2648-4c20-97fb-734916e4cef5",
   "metadata": {},
   "outputs": [
    {
     "data": {
      "text/plain": [
       "array(['Y', 'N'], dtype=object)"
      ]
     },
     "execution_count": 161,
     "metadata": {},
     "output_type": "execute_result"
    }
   ],
   "source": [
    "df['FLAG_OWN_REALTY'].unique()"
   ]
  },
  {
   "cell_type": "code",
   "execution_count": 197,
   "id": "c91e5be6-d768-4004-a5c3-c5047c912a17",
   "metadata": {},
   "outputs": [],
   "source": [
    "df=df.select_dtypes(include=np.number).columns.tolist()"
   ]
  },
  {
   "cell_type": "code",
   "execution_count": 198,
   "id": "6a52e49b-1610-4506-a2dc-94372470c569",
   "metadata": {},
   "outputs": [],
   "source": [
    "df_loanData = pd.get_dummies(df, columns= ['CODE_GENDER', 'FLAG_OWN_CAR', 'FLAG_OWN_REALTY'],drop_first= True, dtype=int)"
   ]
  },
  {
   "cell_type": "code",
   "execution_count": 199,
   "id": "e3615c37-df06-4f8c-8dd4-b0782f5011bc",
   "metadata": {},
   "outputs": [
    {
     "data": {
      "text/html": [
       "<div>\n",
       "<style scoped>\n",
       "    .dataframe tbody tr th:only-of-type {\n",
       "        vertical-align: middle;\n",
       "    }\n",
       "\n",
       "    .dataframe tbody tr th {\n",
       "        vertical-align: top;\n",
       "    }\n",
       "\n",
       "    .dataframe thead th {\n",
       "        text-align: right;\n",
       "    }\n",
       "</style>\n",
       "<table border=\"1\" class=\"dataframe\">\n",
       "  <thead>\n",
       "    <tr style=\"text-align: right;\">\n",
       "      <th></th>\n",
       "      <th>AMT_CREDIT</th>\n",
       "      <th>AMT_GOODS_PRICE</th>\n",
       "      <th>AMT_INCOME_TOTAL</th>\n",
       "      <th>AMT_REQ_CREDIT_BUREAU_DAY</th>\n",
       "      <th>AMT_REQ_CREDIT_BUREAU_HOUR</th>\n",
       "      <th>AMT_REQ_CREDIT_BUREAU_MON</th>\n",
       "      <th>AMT_REQ_CREDIT_BUREAU_QRT</th>\n",
       "      <th>AMT_REQ_CREDIT_BUREAU_WEEK</th>\n",
       "      <th>AMT_REQ_CREDIT_BUREAU_YEAR</th>\n",
       "      <th>APARTMENTS_AVG</th>\n",
       "      <th>...</th>\n",
       "      <th>REG_REGION_NOT_WORK_REGION</th>\n",
       "      <th>SK_ID_CURR</th>\n",
       "      <th>TARGET</th>\n",
       "      <th>TOTALAREA_MODE</th>\n",
       "      <th>YEARS_BEGINEXPLUATATION_AVG</th>\n",
       "      <th>YEARS_BEGINEXPLUATATION_MEDI</th>\n",
       "      <th>YEARS_BEGINEXPLUATATION_MODE</th>\n",
       "      <th>YEARS_BUILD_AVG</th>\n",
       "      <th>YEARS_BUILD_MEDI</th>\n",
       "      <th>YEARS_BUILD_MODE</th>\n",
       "    </tr>\n",
       "  </thead>\n",
       "  <tbody>\n",
       "    <tr>\n",
       "      <th>0</th>\n",
       "      <td>0</td>\n",
       "      <td>0</td>\n",
       "      <td>0</td>\n",
       "      <td>0</td>\n",
       "      <td>0</td>\n",
       "      <td>0</td>\n",
       "      <td>0</td>\n",
       "      <td>0</td>\n",
       "      <td>0</td>\n",
       "      <td>0</td>\n",
       "      <td>...</td>\n",
       "      <td>0</td>\n",
       "      <td>1</td>\n",
       "      <td>0</td>\n",
       "      <td>0</td>\n",
       "      <td>0</td>\n",
       "      <td>0</td>\n",
       "      <td>0</td>\n",
       "      <td>0</td>\n",
       "      <td>0</td>\n",
       "      <td>0</td>\n",
       "    </tr>\n",
       "    <tr>\n",
       "      <th>1</th>\n",
       "      <td>0</td>\n",
       "      <td>0</td>\n",
       "      <td>0</td>\n",
       "      <td>0</td>\n",
       "      <td>0</td>\n",
       "      <td>0</td>\n",
       "      <td>0</td>\n",
       "      <td>0</td>\n",
       "      <td>0</td>\n",
       "      <td>0</td>\n",
       "      <td>...</td>\n",
       "      <td>0</td>\n",
       "      <td>0</td>\n",
       "      <td>1</td>\n",
       "      <td>0</td>\n",
       "      <td>0</td>\n",
       "      <td>0</td>\n",
       "      <td>0</td>\n",
       "      <td>0</td>\n",
       "      <td>0</td>\n",
       "      <td>0</td>\n",
       "    </tr>\n",
       "    <tr>\n",
       "      <th>2</th>\n",
       "      <td>0</td>\n",
       "      <td>0</td>\n",
       "      <td>0</td>\n",
       "      <td>0</td>\n",
       "      <td>0</td>\n",
       "      <td>0</td>\n",
       "      <td>0</td>\n",
       "      <td>0</td>\n",
       "      <td>0</td>\n",
       "      <td>0</td>\n",
       "      <td>...</td>\n",
       "      <td>0</td>\n",
       "      <td>0</td>\n",
       "      <td>0</td>\n",
       "      <td>0</td>\n",
       "      <td>0</td>\n",
       "      <td>0</td>\n",
       "      <td>0</td>\n",
       "      <td>0</td>\n",
       "      <td>0</td>\n",
       "      <td>0</td>\n",
       "    </tr>\n",
       "    <tr>\n",
       "      <th>3</th>\n",
       "      <td>0</td>\n",
       "      <td>0</td>\n",
       "      <td>1</td>\n",
       "      <td>0</td>\n",
       "      <td>0</td>\n",
       "      <td>0</td>\n",
       "      <td>0</td>\n",
       "      <td>0</td>\n",
       "      <td>0</td>\n",
       "      <td>0</td>\n",
       "      <td>...</td>\n",
       "      <td>0</td>\n",
       "      <td>0</td>\n",
       "      <td>0</td>\n",
       "      <td>0</td>\n",
       "      <td>0</td>\n",
       "      <td>0</td>\n",
       "      <td>0</td>\n",
       "      <td>0</td>\n",
       "      <td>0</td>\n",
       "      <td>0</td>\n",
       "    </tr>\n",
       "    <tr>\n",
       "      <th>4</th>\n",
       "      <td>1</td>\n",
       "      <td>0</td>\n",
       "      <td>0</td>\n",
       "      <td>0</td>\n",
       "      <td>0</td>\n",
       "      <td>0</td>\n",
       "      <td>0</td>\n",
       "      <td>0</td>\n",
       "      <td>0</td>\n",
       "      <td>0</td>\n",
       "      <td>...</td>\n",
       "      <td>0</td>\n",
       "      <td>0</td>\n",
       "      <td>0</td>\n",
       "      <td>0</td>\n",
       "      <td>0</td>\n",
       "      <td>0</td>\n",
       "      <td>0</td>\n",
       "      <td>0</td>\n",
       "      <td>0</td>\n",
       "      <td>0</td>\n",
       "    </tr>\n",
       "  </tbody>\n",
       "</table>\n",
       "<p>5 rows × 105 columns</p>\n",
       "</div>"
      ],
      "text/plain": [
       "   AMT_CREDIT  AMT_GOODS_PRICE  AMT_INCOME_TOTAL  AMT_REQ_CREDIT_BUREAU_DAY  \\\n",
       "0           0                0                 0                          0   \n",
       "1           0                0                 0                          0   \n",
       "2           0                0                 0                          0   \n",
       "3           0                0                 1                          0   \n",
       "4           1                0                 0                          0   \n",
       "\n",
       "   AMT_REQ_CREDIT_BUREAU_HOUR  AMT_REQ_CREDIT_BUREAU_MON  \\\n",
       "0                           0                          0   \n",
       "1                           0                          0   \n",
       "2                           0                          0   \n",
       "3                           0                          0   \n",
       "4                           0                          0   \n",
       "\n",
       "   AMT_REQ_CREDIT_BUREAU_QRT  AMT_REQ_CREDIT_BUREAU_WEEK  \\\n",
       "0                          0                           0   \n",
       "1                          0                           0   \n",
       "2                          0                           0   \n",
       "3                          0                           0   \n",
       "4                          0                           0   \n",
       "\n",
       "   AMT_REQ_CREDIT_BUREAU_YEAR  APARTMENTS_AVG  ...  \\\n",
       "0                           0               0  ...   \n",
       "1                           0               0  ...   \n",
       "2                           0               0  ...   \n",
       "3                           0               0  ...   \n",
       "4                           0               0  ...   \n",
       "\n",
       "   REG_REGION_NOT_WORK_REGION  SK_ID_CURR  TARGET  TOTALAREA_MODE  \\\n",
       "0                           0           1       0               0   \n",
       "1                           0           0       1               0   \n",
       "2                           0           0       0               0   \n",
       "3                           0           0       0               0   \n",
       "4                           0           0       0               0   \n",
       "\n",
       "   YEARS_BEGINEXPLUATATION_AVG  YEARS_BEGINEXPLUATATION_MEDI  \\\n",
       "0                            0                             0   \n",
       "1                            0                             0   \n",
       "2                            0                             0   \n",
       "3                            0                             0   \n",
       "4                            0                             0   \n",
       "\n",
       "   YEARS_BEGINEXPLUATATION_MODE  YEARS_BUILD_AVG  YEARS_BUILD_MEDI  \\\n",
       "0                             0                0                 0   \n",
       "1                             0                0                 0   \n",
       "2                             0                0                 0   \n",
       "3                             0                0                 0   \n",
       "4                             0                0                 0   \n",
       "\n",
       "   YEARS_BUILD_MODE  \n",
       "0                 0  \n",
       "1                 0  \n",
       "2                 0  \n",
       "3                 0  \n",
       "4                 0  \n",
       "\n",
       "[5 rows x 105 columns]"
      ]
     },
     "execution_count": 199,
     "metadata": {},
     "output_type": "execute_result"
    }
   ],
   "source": [
    "df_loanData.head()"
   ]
  },
  {
   "cell_type": "code",
   "execution_count": 200,
   "id": "bbf30670-62b2-4fb0-bbdf-57082ee058c8",
   "metadata": {},
   "outputs": [
    {
     "data": {
      "text/plain": [
       "AMT_CREDIT                      106\n",
       "AMT_GOODS_PRICE                 106\n",
       "AMT_INCOME_TOTAL                106\n",
       "AMT_REQ_CREDIT_BUREAU_DAY       106\n",
       "AMT_REQ_CREDIT_BUREAU_HOUR      106\n",
       "                               ... \n",
       "YEARS_BEGINEXPLUATATION_MEDI    106\n",
       "YEARS_BEGINEXPLUATATION_MODE    106\n",
       "YEARS_BUILD_AVG                 106\n",
       "YEARS_BUILD_MEDI                106\n",
       "YEARS_BUILD_MODE                106\n",
       "Length: 105, dtype: int64"
      ]
     },
     "execution_count": 200,
     "metadata": {},
     "output_type": "execute_result"
    }
   ],
   "source": [
    "df_loanData.isna().count()"
   ]
  },
  {
   "cell_type": "code",
   "execution_count": 127,
   "id": "15487333-4e78-467c-a618-f7223fef6984",
   "metadata": {},
   "outputs": [
    {
     "data": {
      "text/plain": [
       "Index(['SK_ID_CURR', 'TARGET', 'NAME_CONTRACT_TYPE', 'CNT_CHILDREN',\n",
       "       'AMT_INCOME_TOTAL', 'AMT_CREDIT', 'AMT_ANNUITY', 'AMT_GOODS_PRICE',\n",
       "       'NAME_TYPE_SUITE', 'NAME_INCOME_TYPE',\n",
       "       ...\n",
       "       'AMT_REQ_CREDIT_BUREAU_HOUR', 'AMT_REQ_CREDIT_BUREAU_DAY',\n",
       "       'AMT_REQ_CREDIT_BUREAU_WEEK', 'AMT_REQ_CREDIT_BUREAU_MON',\n",
       "       'AMT_REQ_CREDIT_BUREAU_QRT', 'AMT_REQ_CREDIT_BUREAU_YEAR',\n",
       "       'CODE_GENDER_M', 'CODE_GENDER_XNA', 'FLAG_OWN_CAR_Y',\n",
       "       'FLAG_OWN_REALTY_Y'],\n",
       "      dtype='object', length=123)"
      ]
     },
     "execution_count": 127,
     "metadata": {},
     "output_type": "execute_result"
    }
   ],
   "source": [
    "df_loanData.columns"
   ]
  },
  {
   "cell_type": "code",
   "execution_count": 201,
   "id": "df2d177f-a405-45e3-bec3-8dc753c5b279",
   "metadata": {},
   "outputs": [],
   "source": [
    "#X=train[features].to_list()\n",
    "\n",
    "#y=train['target(price_in_lacs)'].to_list()\n",
    "\n",
    "x= df_loanData.drop(columns=\"TARGET\").values\n",
    "#x = df_loanData.drop(columns=\"NAME_CONTRACT_TYPE\")\n",
    "y=df_loanData['TARGET'].values"
   ]
  },
  {
   "cell_type": "code",
   "execution_count": 202,
   "id": "6206ca6a-800f-4f0a-8352-3a57121b587d",
   "metadata": {},
   "outputs": [],
   "source": [
    "#splitting data\n",
    "from sklearn.model_selection import train_test_split\n",
    "\n",
    "X_train,X_test,y_train,y_test=train_test_split(x,y,random_state=0)\n"
   ]
  },
  {
   "cell_type": "code",
   "execution_count": 203,
   "id": "88339237-36a9-4e94-a9eb-f5afe3551791",
   "metadata": {},
   "outputs": [
    {
     "data": {
      "text/plain": [
       "104"
      ]
     },
     "execution_count": 203,
     "metadata": {},
     "output_type": "execute_result"
    }
   ],
   "source": [
    "X_train.shape[1]"
   ]
  },
  {
   "cell_type": "code",
   "execution_count": 135,
   "id": "b202d7f5-f0f2-48f4-bcd8-c8f80fe8318e",
   "metadata": {},
   "outputs": [],
   "source": [
    "\n",
    "#X_train=np.asarray(X_train).astype(np.int64)\n",
    "#X_train=X_train.astype(float).astype('Int32')\n",
    "\n",
    "#y_train=np.asarray(y_train).astype(np.int64)\n",
    "#y_train=y_train.astype(float).astype('Int32')"
   ]
  },
  {
   "cell_type": "code",
   "execution_count": 222,
   "id": "4c594d00-6f69-4046-9cf2-ccaed638f10d",
   "metadata": {},
   "outputs": [],
   "source": [
    "# Building model\n",
    "from tensorflow.keras.models import Sequential\n",
    "from tensorflow.keras.layers import Input, Dense\n",
    "from tensorflow.keras.layers import BatchNormalization\n",
    "from tensorflow.keras.metrics import Precision,Recall\n",
    "from keras.optimizers import Adam\n"
   ]
  },
  {
   "cell_type": "code",
   "execution_count": 223,
   "id": "3d15c3cd-ea03-441b-ba3d-34e5a513daf4",
   "metadata": {},
   "outputs": [],
   "source": [
    "# define model architecture\n",
    "model = Sequential()\n",
    "model.add(Input(shape=(X_train.shape[1],)))\n",
    "model.add(Dense(units=20,activation=\"relu\",name=\"HiddenLayer_1\")) # Hidden Layer\n",
    "model.add(Dense(units=20,activation=\"relu\",name=\"HiddenLayer_2\")) # Hidden Layer\n",
    "model.add(Dense(units=20,activation=\"relu\",name=\"HiddenLayer_3\")) # Hidden Layer\n",
    "model.add(Dense(units=1,activation=\"sigmoid\",name=\"OutputLayer\")) # Output Layer\n",
    "\n",
    "model.compile(loss=\"binary_crossentropy\",metrics=[\"accuracy\",Precision(),Recall()],optimizer=\"adam\") # low value of mae is more perfect "
   ]
  },
  {
   "cell_type": "code",
   "execution_count": 226,
   "id": "ab3a7ed3-a8af-44c3-9371-7fbcf4180c8f",
   "metadata": {},
   "outputs": [
    {
     "name": "stdout",
     "output_type": "stream",
     "text": [
      "Model: \"sequential_8\"\n",
      "_________________________________________________________________\n",
      " Layer (type)                Output Shape              Param #   \n",
      "=================================================================\n",
      " HiddenLayer_1 (Dense)       (None, 20)                2100      \n",
      "                                                                 \n",
      " HiddenLayer_2 (Dense)       (None, 20)                420       \n",
      "                                                                 \n",
      " HiddenLayer_3 (Dense)       (None, 20)                420       \n",
      "                                                                 \n",
      " OutputLayer (Dense)         (None, 1)                 21        \n",
      "                                                                 \n",
      "=================================================================\n",
      "Total params: 2961 (11.57 KB)\n",
      "Trainable params: 2961 (11.57 KB)\n",
      "Non-trainable params: 0 (0.00 Byte)\n",
      "_________________________________________________________________\n"
     ]
    }
   ],
   "source": [
    "model.summary()"
   ]
  },
  {
   "cell_type": "code",
   "execution_count": 212,
   "id": "cc9011c1-78dc-4e82-a420-025e05402d3b",
   "metadata": {},
   "outputs": [
    {
     "name": "stdout",
     "output_type": "stream",
     "text": [
      "You must install pydot (`pip install pydot`) and install graphviz (see instructions at https://graphviz.gitlab.io/download/) for plot_model to work.\n"
     ]
    }
   ],
   "source": []
  },
  {
   "cell_type": "code",
   "execution_count": 211,
   "id": "a38b1721-aa50-4c07-b0c7-39649b8f9555",
   "metadata": {},
   "outputs": [
    {
     "name": "stdout",
     "output_type": "stream",
     "text": [
      "Defaulting to user installation because normal site-packages is not writeable\n",
      "Requirement already satisfied: pydot in /usr/local/lib/python3.10/site-packages (1.4.2)\n",
      "Requirement already satisfied: pyparsing>=2.1.4 in /usr/local/lib/python3.10/site-packages (from pydot) (3.0.9)\n",
      "\n",
      "\u001b[1m[\u001b[0m\u001b[34;49mnotice\u001b[0m\u001b[1;39;49m]\u001b[0m\u001b[39;49m A new release of pip is available: \u001b[0m\u001b[31;49m23.3\u001b[0m\u001b[39;49m -> \u001b[0m\u001b[32;49m24.2\u001b[0m\n",
      "\u001b[1m[\u001b[0m\u001b[34;49mnotice\u001b[0m\u001b[1;39;49m]\u001b[0m\u001b[39;49m To update, run: \u001b[0m\u001b[32;49mpip install --upgrade pip\u001b[0m\n"
     ]
    }
   ],
   "source": [
    "!pip install pydot"
   ]
  },
  {
   "cell_type": "code",
   "execution_count": 227,
   "id": "25bcfd35-179b-4321-8cdf-bd50317955cf",
   "metadata": {},
   "outputs": [
    {
     "name": "stdout",
     "output_type": "stream",
     "text": [
      "You must install pydot (`pip install pydot`) and install graphviz (see instructions at https://graphviz.gitlab.io/download/) for plot_model to work.\n"
     ]
    }
   ],
   "source": [
    "from tensorflow.keras.utils import plot_model\n",
    "plot_model(model,to_file=\"model_loan_club.png\",show_shapes=True,show_layer_names=True)"
   ]
  },
  {
   "cell_type": "code",
   "execution_count": 228,
   "id": "9c0cd9bb-51f3-48af-bfb1-165b8e63eb2e",
   "metadata": {},
   "outputs": [],
   "source": [
    "from  livelossplot import PlotLossesKerasTF"
   ]
  },
  {
   "cell_type": "code",
   "execution_count": 229,
   "id": "b63fb641-7003-4166-a238-330cfa835521",
   "metadata": {},
   "outputs": [
    {
     "data": {
      "image/png": "[encoded data removed]",
      "text/plain": [
       "<Figure size 864x864 with 4 Axes>"
      ]
     },
     "metadata": {
      "needs_background": "light"
     },
     "output_type": "display_data"
    },
    {
     "name": "stdout",
     "output_type": "stream",
     "text": [
      "accuracy\n",
      "\ttraining         \t (min:    0.418, max:    0.987, cur:    0.987)\n",
      "\tvalidation       \t (min:    0.630, max:    1.000, cur:    1.000)\n",
      "Loss\n",
      "\ttraining         \t (min:    0.058, max:    0.699, cur:    0.058)\n",
      "\tvalidation       \t (min:    0.035, max:    0.684, cur:    0.035)\n",
      "precision_7\n",
      "\ttraining         \t (min:    0.000, max:    0.000, cur:    0.000)\n",
      "\tvalidation       \t (min:    0.000, max:    0.000, cur:    0.000)\n",
      "recall_7\n",
      "\ttraining         \t (min:    0.000, max:    0.000, cur:    0.000)\n",
      "\tvalidation       \t (min:    0.000, max:    0.000, cur:    0.000)\n",
      "3/3 [==============================] - 1s 256ms/step - loss: 0.0577 - accuracy: 0.9873 - precision_7: 0.0000e+00 - recall_7: 0.0000e+00 - val_loss: 0.0354 - val_accuracy: 1.0000 - val_precision_7: 0.0000e+00 - val_recall_7: 0.0000e+00\n"
     ]
    },
    {
     "data": {
      "text/plain": [
       "<keras.src.callbacks.History at 0x7f9a391bad40>"
      ]
     },
     "execution_count": 229,
     "metadata": {},
     "output_type": "execute_result"
    }
   ],
   "source": [
    "model.fit(X_train,y_train,epochs=50,batch_size=32,validation_data=(X_test,y_test),callbacks=[PlotLossesKerasTF()])"
   ]
  },
  {
   "cell_type": "code",
   "execution_count": null,
   "id": "14a819f1-d772-4831-b715-c057de98e93f",
   "metadata": {},
   "outputs": [],
   "source": []
  }
 ],
 "metadata": {
  "kernelspec": {
   "display_name": "Python 3 [3.10]",
   "language": "python",
   "name": "python3"
  },
  "language_info": {
   "codemirror_mode": {
    "name": "ipython",
    "version": 3
   },
   "file_extension": ".py",
   "mimetype": "text/x-python",
   "name": "python",
   "nbconvert_exporter": "python",
   "pygments_lexer": "ipython3",
   "version": "3.10.2"
  }
 },
 "nbformat": 4,
 "nbformat_minor": 5
}
